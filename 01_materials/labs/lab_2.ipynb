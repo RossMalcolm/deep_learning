{
  "cells": [
    {
      "cell_type": "markdown",
      "metadata": {
        "id": "CdQ46fkw6RMt"
      },
      "source": [
        "# Backpropagation in Multilayer Neural Networks\n",
        "\n",
        "While we will primarily be working with high-level, abstract toolkits like Keras in this course, understanding how backpropagation works is absolutely essential to using neural networks.\n",
        "\n",
        "In this exercise, we will build our own backpropagation algorithm - working through each step, to ensure that we can follow it."
      ]
    },
    {
      "cell_type": "markdown",
      "metadata": {
        "collapsed": false,
        "id": "6W_Ze0N66RMu"
      },
      "source": [
        "Just like in Lab 1, we'll be working with the MNIST dataset. We will load it and plot an example:"
      ]
    },
    {
      "cell_type": "code",
      "execution_count": 1,
      "metadata": {
        "id": "Ad8j4QeX6RMu"
      },
      "outputs": [],
      "source": [
        "%matplotlib inline\n",
        "import matplotlib.pyplot as plt\n",
        "import numpy as np\n",
        "from sklearn.datasets import load_digits\n",
        "\n",
        "digits = load_digits()"
      ]
    },
    {
      "cell_type": "code",
      "execution_count": 2,
      "metadata": {
        "id": "OPcSPwRU6RMv",
        "outputId": "336d0191-690e-4364-b3aa-80315aee4978",
        "colab": {
          "base_uri": "https://localhost:8080/",
          "height": 314
        }
      },
      "outputs": [
        {
          "output_type": "display_data",
          "data": {
            "text/plain": [
              "<Figure size 300x300 with 1 Axes>"
            ],
            "image/png": "[encoded data removed]"
          },
          "metadata": {}
        }
      ],
      "source": [
        "sample_index = 45\n",
        "plt.figure(figsize=(3, 3))\n",
        "plt.imshow(digits.images[sample_index], cmap=plt.cm.gray_r,\n",
        "           interpolation='nearest')\n",
        "plt.title(\"image label: %d\" % digits.target[sample_index]);"
      ]
    },
    {
      "cell_type": "markdown",
      "metadata": {
        "id": "VO9N8K9l6RMv"
      },
      "source": [
        "### Preprocessing\n",
        "\n",
        "Of course, we need to split our data into training and testing sets before we use it, just the same as in Lab 1:"
      ]
    },
    {
      "cell_type": "code",
      "execution_count": 3,
      "metadata": {
        "id": "dmNIz_Nj6RMv"
      },
      "outputs": [],
      "source": [
        "from sklearn.model_selection import train_test_split\n",
        "\n",
        "data = np.asarray(digits.data, dtype='float32')\n",
        "target = np.asarray(digits.target, dtype='int32')\n",
        "\n",
        "X_train, X_test, y_train, y_test = train_test_split(\n",
        "    data, target, test_size=0.15, random_state=37)"
      ]
    },
    {
      "cell_type": "markdown",
      "metadata": {
        "id": "wHMFqwxp6RMv"
      },
      "source": [
        "# Numpy Implementation\n",
        "\n",
        "## a) Logistic Regression\n",
        "\n",
        "In this section we will implement a logistic regression model trainable with SGD using numpy. Here are the objectives:\n",
        "\n",
        "- Implement the softmax function $\\sigma(\\mathbf{x})_i = \\frac{e^{x_i}}{\\sum_{j=1}^n e^{x_j}}$;\n",
        "- Implement the negative log likelihood function $NLL(Y_{true}, Y_{pred}) = - \\sum_{i=1}^{n}{y_{true, i} \\cdot \\log(y_{pred, i})}$;\n",
        "- Train a logistic regression model on the MNIST dataset;\n",
        "- Evaluate the model on the training and testing sets.\n",
        "\n",
        "Before we get there, let's write a function that one-hot encodes the class labels:"
      ]
    },
    {
      "cell_type": "code",
      "execution_count": 4,
      "metadata": {
        "id": "2kJ4Bcq06RMv"
      },
      "outputs": [],
      "source": [
        "def one_hot(n_classes, y):\n",
        "    return np.eye(n_classes)[y]"
      ]
    },
    {
      "cell_type": "code",
      "execution_count": 5,
      "metadata": {
        "id": "b6AcrkQI6RMv",
        "outputId": "4eb13b8f-77e3-4274-a7b6-9be7624434b2",
        "colab": {
          "base_uri": "https://localhost:8080/"
        }
      },
      "outputs": [
        {
          "output_type": "execute_result",
          "data": {
            "text/plain": [
              "array([0., 0., 0., 1., 0., 0., 0., 0., 0., 0.])"
            ]
          },
          "metadata": {},
          "execution_count": 5
        }
      ],
      "source": [
        "one_hot(n_classes=10, y=3)"
      ]
    },
    {
      "cell_type": "code",
      "execution_count": 6,
      "metadata": {
        "id": "4S3w3zNU6RMw",
        "outputId": "3865d73e-0242-4f4f-8c1c-44974d0af35a",
        "colab": {
          "base_uri": "https://localhost:8080/"
        }
      },
      "outputs": [
        {
          "output_type": "execute_result",
          "data": {
            "text/plain": [
              "array([[1., 0., 0., 0., 0., 0., 0., 0., 0., 0.],\n",
              "       [0., 0., 0., 0., 1., 0., 0., 0., 0., 0.],\n",
              "       [0., 0., 0., 0., 0., 0., 0., 0., 0., 1.],\n",
              "       [0., 1., 0., 0., 0., 0., 0., 0., 0., 0.]])"
            ]
          },
          "metadata": {},
          "execution_count": 6
        }
      ],
      "source": [
        "one_hot(n_classes=10, y=[0, 4, 9, 1])"
      ]
    },
    {
      "cell_type": "markdown",
      "metadata": {
        "id": "GmdM9kq26RMw"
      },
      "source": [
        "### The softmax function\n",
        "\n",
        "Now we will implement the softmax function. Recall that the softmax function is defined as follows:\n",
        "\n",
        "$$\n",
        "softmax(\\mathbf{x}) = \\frac{1}{\\sum_{i=1}^{n}{e^{x_i}}}\n",
        "\\cdot\n",
        "\\begin{bmatrix}\n",
        "  e^{x_1}\\\\\\\\\n",
        "  e^{x_2}\\\\\\\\\n",
        "  \\vdots\\\\\\\\\n",
        "  e^{x_n}\n",
        "\\end{bmatrix}\n",
        "$$\n",
        "\n",
        "This is implemented for you using numpy - we want to be able to apply the softmax function to a batch of samples at once, so we will use numpy's vectorized operations to do so.\n",
        "\n",
        "Our method also handles _stability issues_ that can occur when the values in `X` are very large. We will subtract the maximum value from each row of `X` to avoid overflow in the exponentiation. This isn't part of the softmax function itself, but it's a useful trick to know about."
      ]
    },
    {
      "cell_type": "code",
      "execution_count": 7,
      "metadata": {
        "id": "3x-K5ZdB6RMw"
      },
      "outputs": [],
      "source": [
        "def softmax(X):\n",
        "    X_max = np.max(X, axis=-1, keepdims=True)\n",
        "    exp = np.exp(X - X_max) # Subtract the max to avoid overflow in the exponentiation\n",
        "    return exp / np.sum(exp, axis=-1, keepdims=True)\n"
      ]
    },
    {
      "cell_type": "markdown",
      "metadata": {
        "id": "ByFl6HD96RMw"
      },
      "source": [
        "Let's make sure that this works one vector at a time (and check that the components sum to one):"
      ]
    },
    {
      "cell_type": "code",
      "execution_count": 8,
      "metadata": {
        "id": "PzgmIx5o6RMw",
        "outputId": "f78dfc24-c3aa-4aa5-8f3c-ab1a4363aa95",
        "colab": {
          "base_uri": "https://localhost:8080/"
        }
      },
      "outputs": [
        {
          "output_type": "stream",
          "name": "stdout",
          "text": [
            "[9.99662391e-01 3.35349373e-04 2.25956630e-06]\n"
          ]
        }
      ],
      "source": [
        "print(softmax([10, 2, -3]))"
      ]
    },
    {
      "cell_type": "markdown",
      "metadata": {
        "id": "z0HtVSDn6RMw"
      },
      "source": [
        "When we are using our model to make predictions, we will want to be able to make predictions for multiple samples at once.\n",
        "Let's make sure that our implementation of softmax works for a batch of samples:"
      ]
    },
    {
      "cell_type": "code",
      "execution_count": 9,
      "metadata": {
        "id": "fxWZ-E3_6RMw",
        "outputId": "33dd4151-039c-48b0-aa6c-c197bf5d9580",
        "colab": {
          "base_uri": "https://localhost:8080/"
        }
      },
      "outputs": [
        {
          "output_type": "stream",
          "name": "stdout",
          "text": [
            "[[9.99662391e-01 3.35349373e-04 2.25956630e-06]\n",
            " [2.47262316e-03 9.97527377e-01 1.38536042e-11]]\n"
          ]
        }
      ],
      "source": [
        "X = np.array([[10, 2, -3],\n",
        "              [-1, 5, -20]])\n",
        "print(softmax(X))"
      ]
    },
    {
      "cell_type": "markdown",
      "metadata": {
        "id": "5PjdDa_X6RMw"
      },
      "source": [
        "Probabilities should sum to 1:"
      ]
    },
    {
      "cell_type": "code",
      "execution_count": 10,
      "metadata": {
        "id": "3ycr2p0e6RMw",
        "outputId": "139da0ea-185c-4f3b-a8bb-0bfa620e1484",
        "colab": {
          "base_uri": "https://localhost:8080/"
        }
      },
      "outputs": [
        {
          "output_type": "stream",
          "name": "stdout",
          "text": [
            "1.0\n"
          ]
        }
      ],
      "source": [
        "print(np.sum(softmax([10, 2, -3])))"
      ]
    },
    {
      "cell_type": "code",
      "execution_count": 11,
      "metadata": {
        "id": "xcjlAXRq6RMw",
        "outputId": "1e54fe6b-2a6a-4aa4-bb58-b41a8945dc94",
        "colab": {
          "base_uri": "https://localhost:8080/"
        }
      },
      "outputs": [
        {
          "output_type": "stream",
          "name": "stdout",
          "text": [
            "softmax of 2 vectors:\n",
            "[[9.99662391e-01 3.35349373e-04 2.25956630e-06]\n",
            " [2.47262316e-03 9.97527377e-01 1.38536042e-11]]\n"
          ]
        }
      ],
      "source": [
        "print(\"softmax of 2 vectors:\")\n",
        "X = np.array([[10, 2, -3],\n",
        "              [-1, 5, -20]])\n",
        "print(softmax(X))"
      ]
    },
    {
      "cell_type": "markdown",
      "metadata": {
        "id": "nrJ2SrN06RMw"
      },
      "source": [
        "The sum of probabilities for each input vector of logits should some to 1:"
      ]
    },
    {
      "cell_type": "code",
      "execution_count": 12,
      "metadata": {
        "id": "FK6Lz-jc6RMw",
        "outputId": "c1cb9045-0617-49fa-8789-87cd9684c7df",
        "colab": {
          "base_uri": "https://localhost:8080/"
        }
      },
      "outputs": [
        {
          "output_type": "stream",
          "name": "stdout",
          "text": [
            "[1. 1.]\n"
          ]
        }
      ],
      "source": [
        "print(np.sum(softmax(X), axis=1))"
      ]
    },
    {
      "cell_type": "markdown",
      "metadata": {
        "id": "h7J14PF_6RMw"
      },
      "source": [
        "Now we will implement a function that, given the true one-hot encoded class `Y_true` and some predicted probabilities `Y_pred`, returns the negative log likelihood.\n",
        "\n",
        "Recall that the negative log likelihood is defined as follows:\n",
        "\n",
        "$$\n",
        "NLL(Y_{true}, Y_{pred}) = - \\sum_{i=1}^{n}{y_{true, i} \\cdot \\log(y_{pred, i})}\n",
        "$$\n",
        "\n",
        "For example, if we have $y_{true} = [1, 0, 0]$ and $y_{pred} = [0.99, 0.01, 0]$, then the negative log likelihood is $- \\log(0.99) \\approx 0.01$."
      ]
    },
    {
      "cell_type": "code",
      "execution_count": 13,
      "metadata": {
        "id": "70aZbAMd6RMx",
        "outputId": "c9c2b1e2-7112-4d09-ed0c-ab5059898aaa",
        "colab": {
          "base_uri": "https://localhost:8080/"
        }
      },
      "outputs": [
        {
          "output_type": "stream",
          "name": "stdout",
          "text": [
            "0.01005033585350145\n"
          ]
        }
      ],
      "source": [
        "def nll(Y_true, Y_pred):\n",
        "    Y_true = np.asarray(Y_true)\n",
        "    Y_pred = np.asarray(Y_pred)\n",
        "\n",
        "    # Ensure Y_pred doesn't have zero probabilities to avoid log(0)\n",
        "    Y_pred = np.clip(Y_pred, 1e-15, 1 - 1e-15)\n",
        "\n",
        "    # Calculate negative log likelihood\n",
        "    loss = -np.sum(Y_true * np.log(Y_pred))\n",
        "    return loss\n",
        "\n",
        "# Make sure that it works for a simple sample at a time\n",
        "print(nll([1, 0, 0], [.99, 0.01, 0]))"
      ]
    },
    {
      "cell_type": "markdown",
      "metadata": {
        "id": "zgP3aUso6RMx"
      },
      "source": [
        "We should see a very high value for this negative log likelihood, since the model is very confident that the third class is the correct one, but the true class is the first one:"
      ]
    },
    {
      "cell_type": "code",
      "execution_count": 14,
      "metadata": {
        "id": "mKCgtZc56RMx",
        "outputId": "7b1d047e-f8ec-460b-bd80-b55e9b9dd614",
        "colab": {
          "base_uri": "https://localhost:8080/"
        }
      },
      "outputs": [
        {
          "output_type": "stream",
          "name": "stdout",
          "text": [
            "4.605170185988091\n"
          ]
        }
      ],
      "source": [
        "print(nll([1, 0, 0], [0.01, 0.01, .98]))"
      ]
    },
    {
      "cell_type": "markdown",
      "metadata": {
        "id": "EQ_cZFBn6RMx"
      },
      "source": [
        "Make sure that your implementation can compute the average negative log likelihood of a group of predictions: `Y_pred` and `Y_true` can therefore be past as 2D arrays:"
      ]
    },
    {
      "cell_type": "code",
      "execution_count": 15,
      "metadata": {
        "id": "Yidy1B0i6RMx",
        "outputId": "935bb375-ba5f-4d97-9ac9-3947eb0e2f09",
        "colab": {
          "base_uri": "https://localhost:8080/"
        }
      },
      "outputs": [
        {
          "output_type": "stream",
          "name": "stdout",
          "text": [
            "0.010050335853503449\n"
          ]
        }
      ],
      "source": [
        "# Check that the average NLL of the following 3 almost perfect\n",
        "# predictions is close to 0\n",
        "Y_true = np.array([[0, 1, 0],\n",
        "                   [1, 0, 0],\n",
        "                   [0, 0, 1]])\n",
        "\n",
        "Y_pred = np.array([[0,   1,    0],\n",
        "                   [.99, 0.01, 0],\n",
        "                   [0,   0,    1]])\n",
        "\n",
        "print(nll(Y_true, Y_pred))"
      ]
    },
    {
      "cell_type": "markdown",
      "metadata": {
        "collapsed": false,
        "id": "ap810hI76RMx"
      },
      "source": [
        "Now that we have our softmax and negative log likelihood functions, we can implement a logistic regression model.\n",
        "In this section, we have built the model for you, but you will need to complete a few key parts.\n",
        "\n",
        "**YOUR TURN:**\n",
        "\n",
        "1. Implement the `forward` method of the `LogisticRegression` class. This method should take in a batch of samples `X` and return the predicted probabilities for each class. You should use the softmax function that we implemented earlier.\n",
        "2. Implement the `loss` method of the `LogisticRegression` class. This method take in the samples `X` and the true values `y` and return the average negative log likelihood of the predictions."
      ]
    },
    {
      "cell_type": "code",
      "execution_count": 16,
      "metadata": {
        "id": "pLJ9OTvv6RMx"
      },
      "outputs": [],
      "source": [
        "class LogisticRegression:\n",
        "\n",
        "    def __init__(self, input_size, output_size):\n",
        "        # Initialize the weights and biases with random numbers\n",
        "        self.W = np.random.uniform(size=(input_size, output_size),\n",
        "                                   high=0.1, low=-0.1)\n",
        "        self.b = np.random.uniform(size=output_size,\n",
        "                                   high=0.1, low=-0.1)\n",
        "\n",
        "        # Store the input size and output size\n",
        "        self.output_size = output_size\n",
        "        self.input_size = input_size\n",
        "\n",
        "    def forward(self, X):\n",
        "        # Compute the linear combination of the input and weights\n",
        "        Z = np.dot(X, self.W) + self.b\n",
        "\n",
        "        # Apply the softmax activation function\n",
        "        return softmax(Z)\n",
        "\n",
        "    def predict(self, X):\n",
        "        # Return the most probable class for each sample in X\n",
        "        if len(X.shape) == 1:\n",
        "            return np.argmax(self.forward(X))\n",
        "        else:\n",
        "            return np.argmax(self.forward(X), axis=1)\n",
        "\n",
        "    def loss(self, X, y):\n",
        "        # Compute the negative log likelihood over the data provided\n",
        "        y_onehot = one_hot(self.output_size, y.astype(int))\n",
        "        y_pred = self.forward(X)\n",
        "        return nll(y_onehot, y_pred)\n",
        "\n",
        "    def grad_loss(self, X, y_true, y_pred):\n",
        "        # Compute the gradient of the loss with respect to W and b for a single sample (X, y_true)\n",
        "        # y_pred is the output of the forward pass\n",
        "\n",
        "        # Gradient with respect to weights\n",
        "        grad_W = np.dot(X.T, (y_pred - y_true))\n",
        "\n",
        "        # Gradient with respect to biases\n",
        "        grad_b = np.sum(y_pred - y_true, axis=0)\n",
        "\n",
        "        return grad_W, grad_b\n",
        "\n",
        "# Raise an exception if you try to run this cell without having implemented the LogisticRegression class\n",
        "model = LogisticRegression(input_size=64, output_size=10)\n",
        "try:\n",
        "    assert(model.forward(np.zeros((1, 64))).shape == (1, 10))\n",
        "    assert(model.loss(np.zeros((1, 64)), np.zeros(1)) > 0)\n",
        "except:\n",
        "    raise NotImplementedError(\"You need to correctly implement the LogisticRegression class.\")"
      ]
    },
    {
      "cell_type": "code",
      "execution_count": 17,
      "metadata": {
        "id": "EubejPcF6RMx"
      },
      "outputs": [],
      "source": [
        "# Build a model and test its forward inference\n",
        "n_features = X_train.shape[1]\n",
        "n_classes = len(np.unique(y_train))\n",
        "lr = LogisticRegression(n_features, n_classes)"
      ]
    },
    {
      "cell_type": "markdown",
      "metadata": {
        "collapsed": false,
        "id": "qVNtv6PN6RMx"
      },
      "source": [
        "We can evaluate the model on an example, visualizing the prediction probabilities:"
      ]
    },
    {
      "cell_type": "code",
      "execution_count": 18,
      "metadata": {
        "id": "Q-M4nXhO6RMx",
        "outputId": "f2ff5930-616f-4934-8e64-d4f97f015231",
        "colab": {
          "base_uri": "https://localhost:8080/",
          "height": 410
        }
      },
      "outputs": [
        {
          "output_type": "display_data",
          "data": {
            "text/plain": [
              "<Figure size 1000x400 with 2 Axes>"
            ],
            "image/png": "[encoded data removed]"
          },
          "metadata": {}
        }
      ],
      "source": [
        "def plot_prediction(model, sample_idx=0, classes=range(10)):\n",
        "    fig, (ax0, ax1) = plt.subplots(nrows=1, ncols=2, figsize=(10, 4))\n",
        "\n",
        "    ax0.imshow(X_test[sample_idx:sample_idx+1].reshape(8, 8),\n",
        "               cmap=plt.cm.gray_r, interpolation='nearest')\n",
        "    ax0.set_title(\"True image label: %d\" % y_test[sample_idx]);\n",
        "\n",
        "\n",
        "    ax1.bar(classes, one_hot(len(classes), y_test[sample_idx]), label='true')\n",
        "    ax1.bar(classes, model.forward(X_test[sample_idx]), label='prediction', color=\"red\")\n",
        "    ax1.set_xticks(classes)\n",
        "    prediction = model.predict(X_test[sample_idx])\n",
        "    ax1.set_title('Output probabilities (prediction: %d)'\n",
        "                  % prediction)\n",
        "    ax1.set_xlabel('Digit class')\n",
        "    ax1.legend()\n",
        "\n",
        "plot_prediction(lr, sample_idx=0)\n",
        ""
      ]
    },
    {
      "cell_type": "markdown",
      "metadata": {
        "collapsed": false,
        "id": "GkbNWX4b6RMx"
      },
      "source": [
        "Now it's time to start training! We will train for a single epoch, and then evaluate the model on the training and testing sets. Read through the following and make sure that you understand what we are doing here."
      ]
    },
    {
      "cell_type": "code",
      "execution_count": 19,
      "metadata": {
        "id": "Kh8gbOlR6RMx",
        "outputId": "11a86b1b-ee16-497f-ebdb-38cd9942761b",
        "colab": {
          "base_uri": "https://localhost:8080/"
        }
      },
      "outputs": [
        {
          "output_type": "stream",
          "name": "stdout",
          "text": [
            "Average NLL over the last 100 samples at step 0: -0\n",
            "Average NLL over the last 100 samples at step 100: 458\n",
            "Average NLL over the last 100 samples at step 200: 147\n",
            "Average NLL over the last 100 samples at step 300: 143\n",
            "Average NLL over the last 100 samples at step 400: 453\n",
            "Average NLL over the last 100 samples at step 500: 183\n",
            "Average NLL over the last 100 samples at step 600: 76\n",
            "Average NLL over the last 100 samples at step 700: 142\n",
            "Average NLL over the last 100 samples at step 800: 33\n",
            "Average NLL over the last 100 samples at step 900: 232\n",
            "Average NLL over the last 100 samples at step 1000: 139\n",
            "Average NLL over the last 100 samples at step 1100: 135\n",
            "Average NLL over the last 100 samples at step 1200: 98\n",
            "Average NLL over the last 100 samples at step 1300: 192\n",
            "Average NLL over the last 100 samples at step 1400: 320\n",
            "Average NLL over the last 100 samples at step 1500: 61\n"
          ]
        }
      ],
      "source": [
        "lr = LogisticRegression(input_size=X_train.shape[1], output_size=10)\n",
        "\n",
        "learning_rate = 0.01\n",
        "\n",
        "for i in range(len(X_train)):\n",
        "    # Get the current sample and corresponding label\n",
        "    x = X_train[i:i+1]  # Reshape to keep the batch dimension\n",
        "    y = y_train[i:i+1]  # Reshape to keep the batch dimension\n",
        "\n",
        "    # Compute the forward pass and the gradient of the loss with respect to W and b\n",
        "    y_pred = lr.forward(x)\n",
        "    grad_W, grad_b = lr.grad_loss(x, one_hot(lr.output_size, y), y_pred)\n",
        "\n",
        "    # Update the weights and biases\n",
        "    lr.W -= learning_rate * grad_W\n",
        "    lr.b -= learning_rate * grad_b\n",
        "\n",
        "    # Print the average negative log likelihood every 100 steps\n",
        "    if i % 100 == 0:\n",
        "        avg_nll = lr.loss(X_train[max(0, i-100):i], y_train[max(0, i-100):i])\n",
        "        print(\"Average NLL over the last 100 samples at step %d: %0.f\" % (i, avg_nll))\n"
      ]
    },
    {
      "cell_type": "markdown",
      "metadata": {
        "collapsed": false,
        "id": "djA8jdw56RMx"
      },
      "source": [
        "Evaluate the trained model on the first example:"
      ]
    },
    {
      "cell_type": "code",
      "execution_count": 20,
      "metadata": {
        "id": "UQgSaxTy6RMy",
        "outputId": "d846fd2f-fb73-4acd-b14c-196eac94d2a1",
        "colab": {
          "base_uri": "https://localhost:8080/",
          "height": 410
        }
      },
      "outputs": [
        {
          "output_type": "display_data",
          "data": {
            "text/plain": [
              "<Figure size 1000x400 with 2 Axes>"
            ],
            "image/png": "[encoded data removed]"
          },
          "metadata": {}
        }
      ],
      "source": [
        "plot_prediction(lr, sample_idx=0)"
      ]
    },
    {
      "cell_type": "markdown",
      "metadata": {
        "id": "UXgpr6d_6RMy"
      },
      "source": [
        "\n",
        "## b) Feedforward Multilayer\n",
        "\n",
        "The objective of this section is to implement the backpropagation algorithm (SGD with the chain rule) on a single layer neural network using the sigmoid activation function.\n",
        "\n",
        "Now it's your turn to\n",
        "\n",
        "- Implement the `sigmoid` and its element-wise derivative `dsigmoid` functions:\n",
        "\n",
        "$$\n",
        "sigmoid(x) = \\frac{1}{1 + e^{-x}}\n",
        "$$\n",
        "\n",
        "$$\n",
        "dsigmoid(x) = sigmoid(x) \\cdot (1 - sigmoid(x))\n",
        "$$\n",
        "\n",
        "Remember that you can use your `sigmoid` function inside your `dsigmoid` function.\n",
        "\n",
        "Just like with our softmax function, we also want to make sure that we don't run into stability issues with our sigmoid function. We will use `np.clip` to ensure that the input to the sigmoid function is not too large or too small."
      ]
    },
    {
      "cell_type": "code",
      "execution_count": 21,
      "metadata": {
        "id": "Ul_6D6RA6RMy",
        "outputId": "66407ec1-c710-4dd4-d420-c2570dc9ce83",
        "colab": {
          "base_uri": "https://localhost:8080/",
          "height": 430
        }
      },
      "outputs": [
        {
          "output_type": "display_data",
          "data": {
            "text/plain": [
              "<Figure size 640x480 with 1 Axes>"
            ],
            "image/png": "[encoded data removed]"
          },
          "metadata": {}
        }
      ],
      "source": [
        "def sigmoid(X):\n",
        "    # Clip X to prevent overflow or underflow\n",
        "    X = np.clip(X, -500, 500) # This ensures that np.exp(X) doesn't overflow\n",
        "    return 1/(1+np.exp(-X))\n",
        "\n",
        "\n",
        "def dsigmoid(X):\n",
        "    return sigmoid(X) * (1 - sigmoid(X))\n",
        "\n",
        "\n",
        "x = np.linspace(-5, 5, 100)\n",
        "plt.plot(x, sigmoid(x), label='sigmoid')\n",
        "plt.plot(x, dsigmoid(x), label='dsigmoid')\n",
        "plt.legend(loc='best');"
      ]
    },
    {
      "cell_type": "markdown",
      "metadata": {
        "id": "3kn2joLk6RMy"
      },
      "source": [
        "Now it's your turn to complete the neural network code, so that we can train it on the MNIST dataset.\n",
        "\n",
        "Some parts have been completed for you already. Often, you'll be able to refer back to the code from the previous section to help you complete the code in this section."
      ]
    },
    {
      "cell_type": "code",
      "execution_count": 30,
      "metadata": {
        "id": "vEnenhxU6RMy"
      },
      "outputs": [],
      "source": [
        "class NeuralNet():\n",
        "    \"\"\"MLP with 1 hidden layer with a sigmoid activation\"\"\"\n",
        "\n",
        "    def __init__(self, input_size, hidden_size, output_size):\n",
        "        # Initializes the weights with random numbers\n",
        "        self.W_h = np.random.uniform(size=(input_size, hidden_size),\n",
        "                                     high=0.1, low=-0.1)\n",
        "        self.b_h = np.random.uniform(size=hidden_size,\n",
        "                                     high=0.1, low=-0.1)\n",
        "        self.W_o = np.random.uniform(size=(hidden_size, output_size),\n",
        "                                     high=0.1, low=-0.1)\n",
        "        self.b_o = np.random.uniform(size=output_size,\n",
        "                                     high=0.1, low=-0.1)\n",
        "\n",
        "        # Store the input size, hidden size and output size\n",
        "        self.input_size = input_size\n",
        "        self.hidden_size = hidden_size\n",
        "        self.output_size = output_size\n",
        "\n",
        "    def forward_hidden(self, X):\n",
        "        # Compute the linear combination of the input and weights\n",
        "        self.Z_h = np.dot(X, self.W_h) + self.b_h\n",
        "\n",
        "        # Apply the sigmoid activation function\n",
        "        return sigmoid(self.Z_h)\n",
        "\n",
        "    def forward_output(self, H):\n",
        "        # Compute the linear combination of the hidden layer activation and weights\n",
        "        self.Z_o = np.dot(H, self.W_o) + self.b_o\n",
        "\n",
        "        # Apply the sigmoid activation function\n",
        "        return sigmoid(self.Z_o)\n",
        "\n",
        "    def forward(self, X):\n",
        "        # Compute the forward activations of the hidden and output layers\n",
        "        H = self.forward_hidden(X)\n",
        "        Y = self.forward_output(H)\n",
        "\n",
        "        return Y\n",
        "\n",
        "    def loss(self, X, y):\n",
        "        y = y.astype(int)\n",
        "        y_onehot = one_hot(self.output_size, y.astype(int))\n",
        "        y_pred = self.forward(X)\n",
        "        return nll(y_onehot, y_pred)\n",
        "\n",
        "    def grad_loss(self, X, y_true):\n",
        "        y_true = one_hot(self.output_size, y_true)\n",
        "        y_pred = self.forward(X)\n",
        "\n",
        "        # Compute the error at the output layer\n",
        "        error_o = y_pred - y_true\n",
        "\n",
        "        # Compute the gradient of the loss with respect to W_o and b_o\n",
        "        grad_W_o = np.dot(self.Z_h.T, error_o)\n",
        "        grad_b_o = np.sum(error_o, axis=0)\n",
        "\n",
        "        # Compute the error at the hidden layer\n",
        "        error_h = np.dot(error_o, self.W_o.T) * dsigmoid(self.Z_h)\n",
        "\n",
        "        # Compute the gradient of the loss with respect to W_h and b_h\n",
        "        grad_W_h = np.dot(X.T, error_h)\n",
        "        grad_b_h = np.sum(error_h, axis=0)\n",
        "\n",
        "        return {\"W_h\": grad_W_h, \"b_h\": grad_b_h, \"W_o\": grad_W_o, \"b_o\": grad_b_o}\n",
        "\n",
        "    def train(self, x, y, learning_rate):\n",
        "        # Ensure x is 2D\n",
        "        x = x[np.newaxis, :]\n",
        "        # Compute the gradient for the sample and update the weights\n",
        "        grads = self.grad_loss(x, y)\n",
        "\n",
        "        self.W_h -= learning_rate * grads[\"W_h\"]\n",
        "        self.b_h -= learning_rate * grads[\"b_h\"]\n",
        "        self.W_o -= learning_rate * grads[\"W_o\"]\n",
        "        self.b_o -= learning_rate * grads[\"b_o\"]\n",
        "\n",
        "    def predict(self, X):\n",
        "        if len(X.shape) == 1:\n",
        "            return np.argmax(self.forward(X))\n",
        "        else:\n",
        "            return np.argmax(self.forward(X), axis=1)\n",
        "\n",
        "    def accuracy(self, X, y):\n",
        "        y_preds = np.argmax(self.forward(X), axis=1)\n",
        "        return np.mean(y_preds == y)\n",
        "\n",
        "# Raise an exception if you try to run this cell without having implemented the NeuralNet class\n",
        "nn = NeuralNet(input_size=64, hidden_size=32, output_size=10)\n",
        "try:\n",
        "    assert(nn.forward(np.zeros((1, 64))).shape == (1, 10))\n",
        "    assert(nn.loss(np.zeros((1, 64)), np.zeros(1)) > 0)\n",
        "except:\n",
        "    raise NotImplementedError(\"You need to correctly implement the NeuralNet class.\")"
      ]
    },
    {
      "cell_type": "markdown",
      "metadata": {
        "collapsed": false,
        "id": "OhjhZyqz6RMy"
      },
      "source": [
        "Once the code is written, we can test our model on a single sample:"
      ]
    },
    {
      "cell_type": "code",
      "execution_count": 31,
      "metadata": {
        "id": "34rgTK6G6RMz"
      },
      "outputs": [],
      "source": [
        "n_hidden = 10\n",
        "model = NeuralNet(n_features, n_hidden, n_classes)"
      ]
    },
    {
      "cell_type": "code",
      "execution_count": 32,
      "metadata": {
        "id": "V37zk-zQ6RMz",
        "outputId": "b916d9f0-f28e-4dfc-8c55-f2e5418c7eb2",
        "colab": {
          "base_uri": "https://localhost:8080/"
        }
      },
      "outputs": [
        {
          "output_type": "execute_result",
          "data": {
            "text/plain": [
              "1112.9411540819672"
            ]
          },
          "metadata": {},
          "execution_count": 32
        }
      ],
      "source": [
        "model.loss(X_train, y_train)"
      ]
    },
    {
      "cell_type": "code",
      "execution_count": 33,
      "metadata": {
        "id": "nxB-HYwE6RMz",
        "outputId": "2ad349b2-892a-41e7-ae15-80b23e2c249d",
        "colab": {
          "base_uri": "https://localhost:8080/"
        }
      },
      "outputs": [
        {
          "output_type": "execute_result",
          "data": {
            "text/plain": [
              "0.10019646365422397"
            ]
          },
          "metadata": {},
          "execution_count": 33
        }
      ],
      "source": [
        "model.accuracy(X_train, y_train)"
      ]
    },
    {
      "cell_type": "code",
      "execution_count": 34,
      "metadata": {
        "id": "LEECwrJX6RMz",
        "outputId": "fe2f214d-fde3-41d3-ff05-bdd3bc31a5b3",
        "colab": {
          "base_uri": "https://localhost:8080/",
          "height": 410
        }
      },
      "outputs": [
        {
          "output_type": "display_data",
          "data": {
            "text/plain": [
              "<Figure size 1000x400 with 2 Axes>"
            ],
            "image/png": "[encoded data removed]"
          },
          "metadata": {}
        }
      ],
      "source": [
        "plot_prediction(model, sample_idx=5)"
      ]
    },
    {
      "cell_type": "markdown",
      "metadata": {
        "collapsed": false,
        "id": "qAR5WDsF6RMz"
      },
      "source": [
        "And now it's time to train!"
      ]
    },
    {
      "cell_type": "code",
      "execution_count": 35,
      "metadata": {
        "id": "KNyxMgpQ6RMz",
        "outputId": "f53e3e76-a734-4c17-9d97-b4812a15e80e",
        "colab": {
          "base_uri": "https://localhost:8080/"
        }
      },
      "outputs": [
        {
          "output_type": "stream",
          "name": "stdout",
          "text": [
            "Random init: train loss: 1112.94115, train acc: 0.100, test acc: 0.089\n",
            "Epoch #1, train loss: 2879.19387, train acc: 0.481, test acc: 0.467\n",
            "Epoch #2, train loss: 2205.26665, train acc: 0.732, test acc: 0.715\n",
            "Epoch #3, train loss: 1677.59303, train acc: 0.811, test acc: 0.785\n",
            "Epoch #4, train loss: 1319.72327, train acc: 0.846, test acc: 0.822\n",
            "Epoch #5, train loss: 1081.20885, train acc: 0.885, test acc: 0.867\n",
            "Epoch #6, train loss: 902.14831, train acc: 0.910, test acc: 0.893\n",
            "Epoch #7, train loss: 772.22882, train acc: 0.923, test acc: 0.900\n",
            "Epoch #8, train loss: 689.20297, train acc: 0.925, test acc: 0.907\n",
            "Epoch #9, train loss: 630.30840, train acc: 0.927, test acc: 0.911\n",
            "Epoch #10, train loss: 587.44538, train acc: 0.931, test acc: 0.911\n",
            "Epoch #11, train loss: 553.74959, train acc: 0.935, test acc: 0.915\n",
            "Epoch #12, train loss: 524.74186, train acc: 0.936, test acc: 0.915\n",
            "Epoch #13, train loss: 500.17688, train acc: 0.938, test acc: 0.915\n",
            "Epoch #14, train loss: 479.58646, train acc: 0.942, test acc: 0.919\n",
            "Epoch #15, train loss: 461.51032, train acc: 0.942, test acc: 0.919\n"
          ]
        }
      ],
      "source": [
        "losses, accuracies, accuracies_test = [], [], []\n",
        "losses.append(model.loss(X_train, y_train))\n",
        "accuracies.append(model.accuracy(X_train, y_train))\n",
        "accuracies_test.append(model.accuracy(X_test, y_test))\n",
        "\n",
        "print(\"Random init: train loss: %0.5f, train acc: %0.3f, test acc: %0.3f\"\n",
        "      % (losses[-1], accuracies[-1], accuracies_test[-1]))\n",
        "\n",
        "for epoch in range(15):\n",
        "    for i, (x, y) in enumerate(zip(X_train, y_train)):\n",
        "        model.train(x, y, 0.001)\n",
        "\n",
        "    losses.append(model.loss(X_train, y_train))\n",
        "    accuracies.append(model.accuracy(X_train, y_train))\n",
        "    accuracies_test.append(model.accuracy(X_test, y_test))\n",
        "    print(\"Epoch #%d, train loss: %0.5f, train acc: %0.3f, test acc: %0.3f\"\n",
        "          % (epoch + 1, losses[-1], accuracies[-1], accuracies_test[-1]))"
      ]
    },
    {
      "cell_type": "code",
      "execution_count": 36,
      "metadata": {
        "id": "QilHqMql6RMz",
        "outputId": "0b6db7c7-7b16-488e-e23e-1053a14fe753",
        "colab": {
          "base_uri": "https://localhost:8080/",
          "height": 452
        }
      },
      "outputs": [
        {
          "output_type": "display_data",
          "data": {
            "text/plain": [
              "<Figure size 640x480 with 1 Axes>"
            ],
            "image/png": "[encoded data removed]"
          },
          "metadata": {}
        }
      ],
      "source": [
        "plt.plot(losses)\n",
        "plt.title(\"Training loss\");"
      ]
    },
    {
      "cell_type": "code",
      "execution_count": 37,
      "metadata": {
        "id": "EwtXMPki6RMz",
        "outputId": "f6e0c0e0-9bd3-4771-b6d8-6272b24e5d54",
        "colab": {
          "base_uri": "https://localhost:8080/",
          "height": 430
        }
      },
      "outputs": [
        {
          "output_type": "display_data",
          "data": {
            "text/plain": [
              "<Figure size 640x480 with 1 Axes>"
            ],
            "image/png": "[encoded data removed]"
          },
          "metadata": {}
        }
      ],
      "source": [
        "plt.plot(accuracies, label='train')\n",
        "plt.plot(accuracies_test, label='test')\n",
        "plt.ylim(0, 1.1)\n",
        "plt.ylabel(\"accuracy\")\n",
        "plt.legend(loc='best');"
      ]
    },
    {
      "cell_type": "code",
      "execution_count": 38,
      "metadata": {
        "id": "NntIiq3k6RMz",
        "outputId": "88689173-41bd-4390-9660-12cc38a6d069",
        "colab": {
          "base_uri": "https://localhost:8080/",
          "height": 410
        }
      },
      "outputs": [
        {
          "output_type": "display_data",
          "data": {
            "text/plain": [
              "<Figure size 1000x400 with 2 Axes>"
            ],
            "image/png": "[encoded data removed]"
          },
          "metadata": {}
        }
      ],
      "source": [
        "plot_prediction(model, sample_idx=4)"
      ]
    },
    {
      "cell_type": "markdown",
      "metadata": {
        "id": "jHisLPhY6RMz"
      },
      "source": [
        "## c) Exercises\n",
        "\n",
        "### Look at worst prediction errors\n",
        "\n",
        "- Use numpy to find test samples for which the model made the worst predictions,\n",
        "- Use the `plot_prediction` to look at the model predictions on those,\n",
        "- Would you have done any better?"
      ]
    },
    {
      "cell_type": "code",
      "execution_count": 57,
      "metadata": {
        "id": "2mnxhQ6L6RMz",
        "outputId": "40e8d85f-ba98-46b7-f78b-7e02c25fe525",
        "colab": {
          "base_uri": "https://localhost:8080/",
          "height": 829
        }
      },
      "outputs": [
        {
          "output_type": "display_data",
          "data": {
            "text/plain": [
              "<Figure size 1000x1000 with 9 Axes>"
            ],
            "image/png": "[encoded data removed]"
          },
          "metadata": {}
        }
      ],
      "source": [
        "# Step 1: Obtain Predictions\n",
        "predictions = model.forward(X_test)  # Get raw predictions\n",
        "predicted_classes = np.argmax(predictions, axis=1)  # Get the predicted class with max probability\n",
        "true_classes = y_test  # True labels\n",
        "\n",
        "# Step 2: Find Misclassified Samples\n",
        "misclassified_indices = np.where(predicted_classes != true_classes)[0]\n",
        "\n",
        "# Step 3: Sort by Confidence (get the predicted class probabilities)\n",
        "confidence_scores = np.max(predictions[misclassified_indices], axis=1)  # Get the maximum probability for each misclassified sample\n",
        "\n",
        "# Sort misclassified samples by the confidence (lowest confidence first)\n",
        "sorted_indices = np.argsort(confidence_scores)\n",
        "\n",
        "# Step 4: Plot the Worst Predictions\n",
        "# Select top 9 worst misclassified samples (with the least confidence)\n",
        "worst_samples = X_test[misclassified_indices[sorted_indices[:9]]]\n",
        "worst_labels = true_classes[misclassified_indices[sorted_indices[:9]]]\n",
        "worst_preds = predicted_classes[misclassified_indices[sorted_indices[:9]]]\n",
        "\n",
        "fig, axes = plt.subplots(3, 3, figsize=(10, 10))\n",
        "for i, ax in enumerate(axes.flat):\n",
        "    ax.imshow(worst_samples[i].reshape(8, 8), cmap=plt.cm.gray_r, interpolation='nearest')  # Assuming 8x8 images\n",
        "    ax.set_title(f\"Pred: {worst_preds[i]}, Real: {worst_labels[i]} (Conf: {confidence_scores[sorted_indices[i]]:.2f})\")\n",
        "    ax.set_xticks([])\n",
        "    ax.set_yticks([])\n",
        "\n",
        "plt.show()"
      ]
    },
    {
      "cell_type": "markdown",
      "source": [
        "I would not have done much better. It seems to struggle significantly with 8, as some of the loops within the 8s are not clearly defined"
      ],
      "metadata": {
        "id": "SKrr2ZZsPoKt"
      }
    },
    {
      "cell_type": "markdown",
      "metadata": {
        "id": "zu-TCLoz6RM0"
      },
      "source": [
        "### Hyper parameters settings\n",
        "\n",
        "- Experiment with different hyperparameters:\n",
        "  - learning rate,\n",
        "  - size of hidden layer,\n",
        "  - implement the support for a second hidden layer.\n",
        "  - What is the best test accuracy you can get?"
      ]
    },
    {
      "cell_type": "code",
      "execution_count": 60,
      "metadata": {
        "id": "GTX0Wt7M6RM0",
        "outputId": "25151124-e280-4f99-cfac-2193759728ea",
        "colab": {
          "base_uri": "https://localhost:8080/"
        }
      },
      "outputs": [
        {
          "output_type": "stream",
          "name": "stdout",
          "text": [
            "Random init: train loss: 199.66773, train acc: 0.986, test acc: 0.967\n",
            "Epoch #1, train loss: 927.29075, train acc: 0.846, test acc: 0.807\n",
            "Epoch #2, train loss: 6645.10839, train acc: 0.183, test acc: 0.178\n",
            "Epoch #3, train loss: 8645.61982, train acc: 0.100, test acc: 0.107\n",
            "Epoch #4, train loss: 9112.02790, train acc: 0.100, test acc: 0.107\n",
            "Epoch #5, train loss: 8950.57298, train acc: 0.101, test acc: 0.107\n",
            "Epoch #6, train loss: 8837.58256, train acc: 0.102, test acc: 0.111\n",
            "Epoch #7, train loss: 16508.80345, train acc: 0.100, test acc: 0.107\n",
            "Epoch #8, train loss: 35576.72912, train acc: 0.100, test acc: 0.107\n",
            "Epoch #9, train loss: 28660.06351, train acc: 0.100, test acc: 0.107\n",
            "Epoch #10, train loss: 36069.88449, train acc: 0.100, test acc: 0.107\n",
            "Epoch #11, train loss: 32381.63829, train acc: 0.100, test acc: 0.107\n",
            "Epoch #12, train loss: 37863.01912, train acc: 0.100, test acc: 0.107\n",
            "Epoch #13, train loss: 38036.47061, train acc: 0.100, test acc: 0.107\n",
            "Epoch #14, train loss: 36201.86312, train acc: 0.100, test acc: 0.107\n",
            "Epoch #15, train loss: 29334.23672, train acc: 0.100, test acc: 0.107\n"
          ]
        }
      ],
      "source": [
        "#learning rate\n",
        "lr = LogisticRegression(input_size=X_train.shape[1], output_size=10)\n",
        "\n",
        "losses, accuracies, accuracies_test = [], [], []\n",
        "losses.append(model.loss(X_train, y_train))\n",
        "accuracies.append(model.accuracy(X_train, y_train))\n",
        "accuracies_test.append(model.accuracy(X_test, y_test))\n",
        "\n",
        "print(\"Random init: train loss: %0.5f, train acc: %0.3f, test acc: %0.3f\"\n",
        "      % (losses[-1], accuracies[-1], accuracies_test[-1]))\n",
        "\n",
        "for epoch in range(15):\n",
        "    for i, (x, y) in enumerate(zip(X_train, y_train)):\n",
        "        model.train(x, y, 0.01)\n",
        "\n",
        "    losses.append(model.loss(X_train, y_train))\n",
        "    accuracies.append(model.accuracy(X_train, y_train))\n",
        "    accuracies_test.append(model.accuracy(X_test, y_test))\n",
        "    print(\"Epoch #%d, train loss: %0.5f, train acc: %0.3f, test acc: %0.3f\"\n",
        "          % (epoch + 1, losses[-1], accuracies[-1], accuracies_test[-1]))"
      ]
    },
    {
      "cell_type": "code",
      "execution_count": 61,
      "metadata": {
        "id": "41dDjmEG6RM0",
        "outputId": "5fc74305-3370-48f4-b8c6-d3ac9217b810",
        "colab": {
          "base_uri": "https://localhost:8080/"
        }
      },
      "outputs": [
        {
          "output_type": "stream",
          "name": "stdout",
          "text": [
            "Random init: train loss: 1021.52493, train acc: 0.084, test acc: 0.100\n",
            "Epoch #1, train loss: 2309.86815, train acc: 0.707, test acc: 0.633\n",
            "Epoch #2, train loss: 1498.91859, train acc: 0.854, test acc: 0.826\n",
            "Epoch #3, train loss: 1060.74364, train acc: 0.912, test acc: 0.900\n",
            "Epoch #4, train loss: 795.97193, train acc: 0.934, test acc: 0.915\n",
            "Epoch #5, train loss: 641.33619, train acc: 0.946, test acc: 0.919\n",
            "Epoch #6, train loss: 542.75121, train acc: 0.957, test acc: 0.933\n",
            "Epoch #7, train loss: 475.25082, train acc: 0.967, test acc: 0.937\n",
            "Epoch #8, train loss: 426.27896, train acc: 0.968, test acc: 0.941\n",
            "Epoch #9, train loss: 388.67703, train acc: 0.971, test acc: 0.944\n",
            "Epoch #10, train loss: 358.30770, train acc: 0.971, test acc: 0.944\n",
            "Epoch #11, train loss: 332.51315, train acc: 0.971, test acc: 0.944\n",
            "Epoch #12, train loss: 309.69448, train acc: 0.972, test acc: 0.944\n",
            "Epoch #13, train loss: 289.18809, train acc: 0.977, test acc: 0.948\n",
            "Epoch #14, train loss: 270.71366, train acc: 0.980, test acc: 0.952\n",
            "Epoch #15, train loss: 254.19727, train acc: 0.982, test acc: 0.952\n"
          ]
        }
      ],
      "source": [
        "#hidden layer size\n",
        "n_hidden = 32\n",
        "model = NeuralNet(n_features, n_hidden, n_classes)\n",
        "\n",
        "losses, accuracies, accuracies_test = [], [], []\n",
        "losses.append(model.loss(X_train, y_train))\n",
        "accuracies.append(model.accuracy(X_train, y_train))\n",
        "accuracies_test.append(model.accuracy(X_test, y_test))\n",
        "\n",
        "print(\"Random init: train loss: %0.5f, train acc: %0.3f, test acc: %0.3f\"\n",
        "      % (losses[-1], accuracies[-1], accuracies_test[-1]))\n",
        "\n",
        "for epoch in range(15):\n",
        "    for i, (x, y) in enumerate(zip(X_train, y_train)):\n",
        "        model.train(x, y, 0.001)\n",
        "\n",
        "    losses.append(model.loss(X_train, y_train))\n",
        "    accuracies.append(model.accuracy(X_train, y_train))\n",
        "    accuracies_test.append(model.accuracy(X_test, y_test))\n",
        "    print(\"Epoch #%d, train loss: %0.5f, train acc: %0.3f, test acc: %0.3f\"\n",
        "          % (epoch + 1, losses[-1], accuracies[-1], accuracies_test[-1]))"
      ]
    },
    {
      "cell_type": "code",
      "source": [
        "#Testing additional of one more layer\n",
        "class NeuralNet():\n",
        "    \"\"\"MLP with 2 hidden layers with a sigmoid activation\"\"\"\n",
        "\n",
        "    def __init__(self, input_size, hidden_size1, hidden_size2, output_size):\n",
        "        # Initializes the weights with random numbers\n",
        "        self.W_h1 = np.random.uniform(size=(input_size, hidden_size1),\n",
        "                                     high=0.1, low=-0.1)\n",
        "        self.b_h1 = np.random.uniform(size=hidden_size1,\n",
        "                                     high=0.1, low=-0.1)\n",
        "        self.W_h2 = np.random.uniform(size=(hidden_size1, hidden_size2),  # Fix the shape\n",
        "                                     high=0.1, low=-0.1)\n",
        "        self.b_h2 = np.random.uniform(size=hidden_size2,\n",
        "                                     high=0.1, low=-0.1)\n",
        "        self.W_o = np.random.uniform(size=(hidden_size2, output_size),  # Fix the shape\n",
        "                                     high=0.1, low=-0.1)\n",
        "        self.b_o = np.random.uniform(size=output_size,\n",
        "                                     high=0.1, low=-0.1)\n",
        "\n",
        "        # Store the input size, hidden size and output size\n",
        "        self.input_size = input_size\n",
        "        self.hidden_size1 = hidden_size1\n",
        "        self.hidden_size2 = hidden_size2\n",
        "        self.output_size = output_size\n",
        "\n",
        "    def forward_hidden1(self, X):\n",
        "        # Compute the linear combination of the input and weights\n",
        "        self.Z_h1 = np.dot(X, self.W_h1) + self.b_h1\n",
        "\n",
        "        # Apply the sigmoid activation function\n",
        "        return sigmoid(self.Z_h1)\n",
        "\n",
        "    def forward_hidden2(self, H1):\n",
        "        # Compute the linear combination of the input and weights\n",
        "        self.Z_h2 = np.dot(H1, self.W_h2) + self.b_h2\n",
        "\n",
        "        # Apply the sigmoid activation function\n",
        "        return sigmoid(self.Z_h2)\n",
        "\n",
        "    def forward_output(self, H2):\n",
        "        # Compute the linear combination of the hidden layer activation and weights\n",
        "        self.Z_o = np.dot(H2, self.W_o) + self.b_o\n",
        "\n",
        "        # Apply the sigmoid activation function\n",
        "        return sigmoid(self.Z_o)\n",
        "\n",
        "    def forward(self, X):\n",
        "        # Compute the forward activations of the hidden and output layers\n",
        "        H1 = self.forward_hidden1(X)  # Use the correct function name\n",
        "        H2 = self.forward_hidden2(H1)  # Use the correct function name\n",
        "        Y = self.forward_output(H2)\n",
        "        return Y\n",
        "\n",
        "    def loss(self, X, y):\n",
        "        y = y.astype(int)\n",
        "        y_onehot = one_hot(10, y)\n",
        "        y_pred = self.forward(X)\n",
        "        return nll(y_onehot, y_pred)\n",
        "\n",
        "    def grad_loss(self, X, y_true):\n",
        "        y_true = one_hot(self.output_size, y_true)\n",
        "        y_pred = self.forward(X)\n",
        "\n",
        "        # Compute the error at the output layer\n",
        "        error_o = y_pred - y_true\n",
        "\n",
        "        # Gradient with respect to the output layer\n",
        "        grad_W_o = np.dot(self.Z_h2.T, error_o)\n",
        "        grad_b_o = np.sum(error_o, axis=0)\n",
        "\n",
        "        # Compute the error at the second hidden layer\n",
        "        error_h2 = np.dot(error_o, self.W_o.T) * dsigmoid(self.Z_h2)\n",
        "\n",
        "        # Gradient with respect to the second hidden layer\n",
        "        grad_W_h2 = np.dot(self.Z_h1.T, error_h2)\n",
        "        grad_b_h2 = np.sum(error_h2, axis=0)\n",
        "\n",
        "        # Compute the error at the first hidden layer\n",
        "        error_h1 = np.dot(error_h2, self.W_h2.T) * dsigmoid(self.Z_h1)\n",
        "\n",
        "        # Gradient with respect to the first hidden layer\n",
        "        grad_W_h1 = np.dot(X.T, error_h1)\n",
        "        grad_b_h1 = np.sum(error_h1, axis=0)\n",
        "\n",
        "        return {\n",
        "            \"W_h1\": grad_W_h1, \"b_h1\": grad_b_h1,\n",
        "            \"W_h2\": grad_W_h2, \"b_h2\": grad_b_h2,\n",
        "            \"W_o\": grad_W_o, \"b_o\": grad_b_o\n",
        "        }\n",
        "\n",
        "    def train(self, x, y, learning_rate):\n",
        "        # Ensure x is 2D\n",
        "        x = x[np.newaxis, :]\n",
        "\n",
        "        # Compute the gradient for the sample and update the weights\n",
        "        grads = self.grad_loss(x, y)\n",
        "\n",
        "        # Update weights and biases for both hidden layers and output layer\n",
        "        self.W_h1 -= learning_rate * grads[\"W_h1\"]\n",
        "        self.b_h1 -= learning_rate * grads[\"b_h1\"]\n",
        "\n",
        "        self.W_h2 -= learning_rate * grads[\"W_h2\"]\n",
        "        self.b_h2 -= learning_rate * grads[\"b_h2\"]\n",
        "\n",
        "        self.W_o -= learning_rate * grads[\"W_o\"]\n",
        "        self.b_o -= learning_rate * grads[\"b_o\"]\n",
        "\n",
        "    def predict(self, X):\n",
        "        if len(X.shape) == 1:\n",
        "            return np.argmax(self.forward(X))\n",
        "        else:\n",
        "            return np.argmax(self.forward(X), axis=1)\n",
        "\n",
        "    def accuracy(self, X, y):\n",
        "        y_preds = np.argmax(self.forward(X), axis=1)\n",
        "        return np.mean(y_preds == y)\n",
        "\n",
        "# Define hidden layer sizes\n",
        "n_hidden_1 = 32  # Size of the first hidden layer\n",
        "n_hidden_2 = 16  # Size of the second hidden layer\n",
        "\n",
        "# Initialize the model\n",
        "model = NeuralNet(input_size=n_features, hidden_size1=n_hidden_1, hidden_size2=n_hidden_2, output_size=n_classes)\n",
        "\n",
        "# Initialize loss and accuracy tracking\n",
        "losses, accuracies, accuracies_test = [], [], []\n",
        "losses.append(model.loss(X_train, y_train))\n",
        "accuracies.append(model.accuracy(X_train, y_train))\n",
        "accuracies_test.append(model.accuracy(X_test, y_test))\n",
        "\n",
        "# Print initial stats\n",
        "print(\"Random init: train loss: %0.5f, train acc: %0.3f, test acc: %0.3f\"\n",
        "      % (losses[-1], accuracies[-1], accuracies_test[-1]))\n",
        "\n",
        "# Training loop\n",
        "for epoch in range(15):\n",
        "    for i, (x, y) in enumerate(zip(X_train, y_train)):\n",
        "        model.train(x, y, 0.001)\n",
        "\n",
        "    losses.append(model.loss(X_train, y_train))\n",
        "    accuracies.append(model.accuracy(X_train, y_train))\n",
        "    accuracies_test.append(model.accuracy(X_test, y_test))\n",
        "    print(\"Epoch #%d, train loss: %0.5f, train acc: %0.3f, test acc: %0.3f\"\n",
        "          % (epoch + 1, losses[-1], accuracies[-1], accuracies_test[-1]))"
      ],
      "metadata": {
        "id": "Q8YHPAP2QqbO",
        "outputId": "69f9099e-c09b-4f30-ec02-5042313bddb3",
        "colab": {
          "base_uri": "https://localhost:8080/"
        }
      },
      "execution_count": 62,
      "outputs": [
        {
          "output_type": "stream",
          "name": "stdout",
          "text": [
            "Random init: train loss: 1011.23232, train acc: 0.109, test acc: 0.063\n",
            "Epoch #1, train loss: 3163.68393, train acc: 0.109, test acc: 0.063\n",
            "Epoch #2, train loss: 3498.49971, train acc: 0.109, test acc: 0.063\n",
            "Epoch #3, train loss: 3512.40192, train acc: 0.109, test acc: 0.063\n",
            "Epoch #4, train loss: 3512.31408, train acc: 0.109, test acc: 0.063\n",
            "Epoch #5, train loss: 3511.39471, train acc: 0.109, test acc: 0.063\n",
            "Epoch #6, train loss: 3510.08433, train acc: 0.109, test acc: 0.063\n",
            "Epoch #7, train loss: 3508.15048, train acc: 0.109, test acc: 0.063\n",
            "Epoch #8, train loss: 3505.13738, train acc: 0.109, test acc: 0.063\n",
            "Epoch #9, train loss: 3500.24858, train acc: 0.109, test acc: 0.063\n",
            "Epoch #10, train loss: 3491.81318, train acc: 0.109, test acc: 0.063\n",
            "Epoch #11, train loss: 3473.46858, train acc: 0.109, test acc: 0.063\n",
            "Epoch #12, train loss: 3429.38985, train acc: 0.183, test acc: 0.137\n",
            "Epoch #13, train loss: 3363.31693, train acc: 0.205, test acc: 0.144\n",
            "Epoch #14, train loss: 3272.27185, train acc: 0.206, test acc: 0.144\n",
            "Epoch #15, train loss: 3162.75407, train acc: 0.208, test acc: 0.156\n"
          ]
        }
      ]
    }
  ],
  "metadata": {
    "kernelspec": {
      "display_name": "lab_1",
      "language": "python",
      "name": "python3"
    },
    "language_info": {
      "codemirror_mode": {
        "name": "ipython",
        "version": 3
      },
      "file_extension": ".py",
      "mimetype": "text/x-python",
      "name": "python",
      "nbconvert_exporter": "python",
      "pygments_lexer": "ipython3",
      "version": "3.12.9"
    },
    "colab": {
      "provenance": []
    }
  },
  "nbformat": 4,
  "nbformat_minor": 0
}